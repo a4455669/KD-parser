{
 "cells": [
  {
   "cell_type": "code",
   "execution_count": 1,
   "metadata": {},
   "outputs": [],
   "source": [
    "import pandas as pd\n",
    "import numpy as np\n",
    "from selenium import webdriver\n",
    "import time\n",
    "import os\n",
    "import datetime\n",
    "\n",
    "chrome_path = \"selenium_driver_chrome/chromedriver.exe\" \n",
    "gmailsername = 'Enter yours'\n",
    "gmailpassword = 'Enter yours'\n",
    "\n",
    "web = webdriver.Chrome(chrome_path)\n",
    "\n",
    "StockIDList = ['0056','0050','2881','2886','2892','2884','2891',\n",
    "               '2887','5820','5530','2412','2882','2880','5880',\n",
    "               '8926','6183','1722','1737']\n",
    "\n",
    "ChartList = {}\n",
    "\n",
    "pd.options.display.max_colwidth = 100\n",
    "df = pd.DataFrame(columns=['ChineseName','OpenValue','CloseValue','Kvalue','Dvalue','RSI5value','RSI10value', 'URL'])\n",
    "\n",
    "#web.set_window_position(0,0) #瀏覽器位置\n",
    "#web.set_window_size(700,700) #瀏覽器大小\n"
   ]
  },
  {
   "cell_type": "code",
   "execution_count": 2,
   "metadata": {},
   "outputs": [
    {
     "name": "stdout",
     "output_type": "stream",
     "text": [
      "Finish: 0056\n",
      "Finish: 0050\n",
      "Finish: 2881\n",
      "Finish: 2886\n",
      "Finish: 2892\n",
      "Finish: 2884\n",
      "Finish: 2891\n",
      "Finish: 2887\n",
      "Finish: 5820\n",
      "Finish: 5530\n",
      "Finish: 2412\n",
      "Finish: 2882\n",
      "Finish: 2880\n",
      "Finish: 5880\n",
      "Finish: 8926\n",
      "Finish: 6183\n",
      "Finish: 1722\n",
      "Finish: 1737\n"
     ]
    }
   ],
   "source": [
    "def GetPrintScreen(StockID):\n",
    "    web.execute_script(\"document.body.style.zoom='60%'\")\n",
    "    web.execute_script(\"window.scrollTo(0, 370)\") \n",
    "    FileName = 'Candlestick Chart/' + StockID + \"_\" + datetime.date.today().strftime(\"%Y%m%d\") + '.png'\n",
    "    web.save_screenshot(FileName) \n",
    "    ChartList[StockID] = FileName\n",
    "    \n",
    "def ParseDataNewRow(df, StockID):\n",
    "    URL = 'https://www.wantgoo.com/stock/astock/techchart?StockNo=' + StockID\n",
    "    web.get(URL)\n",
    "    time.sleep(1)\n",
    "    GetPrintScreen(StockID)\n",
    "    ChineseName = web.find_element_by_xpath('//*[@id=\"container\"]/ol/li[3]/a/span').text\n",
    "    OpenValue = web.find_element_by_xpath('//*[@id=\"container\"]/div[3]/div[2]/ul/li[1]/b').text\n",
    "    CloseValue = web.find_element_by_xpath('//*[@id=\"container\"]/div[3]/div[2]/ul/li[4]/b').text\n",
    "    Kvalue = web.find_element_by_xpath('//*[@id=\"V_K9\"]').text\n",
    "    Dvalue = web.find_element_by_xpath('//*[@id=\"V_D9\"]').text\n",
    "    RSI5value = web.find_element_by_xpath('//*[@id=\"V_RSI5\"]').text\n",
    "    RSI10value = web.find_element_by_xpath('//*[@id=\"V_RSI10\"]').text\n",
    "    dftemp = pd.DataFrame([[ChineseName, OpenValue, CloseValue, Kvalue, Dvalue, RSI5value, RSI10value, URL]], columns = df.columns)\n",
    "    return dftemp\n",
    "\n",
    "\n",
    "for StockID in StockIDList:\n",
    "    dftemp = ParseDataNewRow(df, StockID)\n",
    "    df = df.append(dftemp, ignore_index=True)\n",
    "    print(\"Finish: \" + StockID)\n",
    "\n",
    "df = df.sort_values(by=['Kvalue'])"
   ]
  },
  {
   "cell_type": "code",
   "execution_count": 3,
   "metadata": {},
   "outputs": [],
   "source": [
    "filename = \"KD-overview/KD{0}.csv\"\n",
    "oldfilename = filename.format('')\n",
    "while (os.path.isfile(oldfilename)):\n",
    "    v= datetime.datetime.fromtimestamp(os.path.getmtime(oldfilename))\n",
    "    x = v.strftime('%Y%m%d-%H%M%S')\n",
    "    try:\n",
    "        os.rename(oldfilename,filename.format(x))\n",
    "    except FileExistsError:\n",
    "        os.remove(filename.format(x))\n",
    "        os.rename(oldfilename,filename.format(x))\n",
    "\n",
    "df.to_csv(oldfilename, encoding=\"big5\")"
   ]
  },
  {
   "cell_type": "code",
   "execution_count": null,
   "metadata": {},
   "outputs": [
    {
     "name": "stdout",
     "output_type": "stream",
     "text": [
      "Embedding: 0056\n",
      "Embedding: 0050\n",
      "Embedding: 2881\n",
      "Embedding: 2886\n",
      "Embedding: 2892\n",
      "Embedding: 2884\n",
      "Embedding: 2891\n",
      "Embedding: 2887\n",
      "Embedding: 5820\n",
      "Embedding: 5530\n",
      "Embedding: 2412\n",
      "Embedding: 2882\n",
      "Embedding: 2880\n",
      "Embedding: 5880\n",
      "Embedding: 8926\n",
      "Embedding: 6183\n",
      "Embedding: 1722\n",
      "Embedding: 1737\n"
     ]
    }
   ],
   "source": [
    "from email.mime.text import MIMEText\n",
    "from email.mime.application import MIMEApplication\n",
    "from email.mime.multipart import MIMEMultipart\n",
    "from email.mime.image import MIMEImage\n",
    "from smtplib import SMTP\n",
    "import smtplib\n",
    "import sys\n",
    "\n",
    "\n",
    "\n",
    "recipients = ['a4455669@gmail.com']#, 'iverson0912@livemail.tw', 'joannechiuu@gmail.com'] \n",
    "emaillist = [elem.strip().split(',') for elem in recipients]\n",
    "msg = MIMEMultipart()\n",
    "msg['Subject'] = \"KD Daily Summary\"\n",
    "msg['From'] = 'a4455669@gmail.com'\n",
    "\n",
    "\n",
    "html = \"\"\"\\\n",
    "<html>\n",
    "  <head> </head>\n",
    "  <body>\n",
    "    {0}\n",
    "  </body>\n",
    "</html>\n",
    "\"\"\".format(df.to_html())\n",
    "\n",
    "part1 = MIMEText(html, 'html')\n",
    "msg.attach(part1)\n",
    "\n",
    "for StockID in ChartList.keys():\n",
    "    img_data = open(ChartList[StockID], 'rb').read()\n",
    "    image = MIMEImage(img_data, name=StockID)\n",
    "    print('Embedding: ' + StockID)\n",
    "    msg.attach(image)\n",
    "\n",
    "server = smtplib.SMTP('smtp.gmail.com:587')\n",
    "server.ehlo()\n",
    "server.starttls()\n",
    "server.login(gmailsername,gmailpassword)\n",
    "server.sendmail(msg['From'], emaillist , msg.as_string())"
   ]
  },
  {
   "cell_type": "code",
   "execution_count": null,
   "metadata": {},
   "outputs": [],
   "source": [
    "web.quit()"
   ]
  }
 ],
 "metadata": {
  "kernelspec": {
   "display_name": "Python 3",
   "language": "python",
   "name": "python3"
  },
  "language_info": {
   "codemirror_mode": {
    "name": "ipython",
    "version": 3
   },
   "file_extension": ".py",
   "mimetype": "text/x-python",
   "name": "python",
   "nbconvert_exporter": "python",
   "pygments_lexer": "ipython3",
   "version": "3.6.5"
  }
 },
 "nbformat": 4,
 "nbformat_minor": 2
}
